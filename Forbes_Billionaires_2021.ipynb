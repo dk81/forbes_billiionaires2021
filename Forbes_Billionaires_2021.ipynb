{
 "cells": [
  {
   "cell_type": "code",
   "execution_count": 1,
   "metadata": {},
   "outputs": [],
   "source": [
    "# Imports\n",
    "# Reference: https://www.youtube.com/watch?v=lTypMlVBFM4\n",
    "\n",
    "from selenium import webdriver\n",
    "import pandas as pd\n",
    "from datetime import date\n",
    "import time"
   ]
  },
  {
   "cell_type": "code",
   "execution_count": 2,
   "metadata": {},
   "outputs": [],
   "source": [
    "url = \"https://www.forbes.com/billionaires/\""
   ]
  },
  {
   "cell_type": "code",
   "execution_count": 3,
   "metadata": {},
   "outputs": [],
   "source": [
    "# Open chrome browser\n",
    "driver = webdriver.Chrome('C:\\Program Files (x86)\\chromedriver.exe')\n",
    "driver.get(url)\n",
    "\n",
    "# Maximize window:\n",
    "driver.maximize_window()"
   ]
  },
  {
   "cell_type": "code",
   "execution_count": 4,
   "metadata": {},
   "outputs": [],
   "source": [
    "# Scroll down gradually \n",
    "\n",
    "for i in range(39):\n",
    "    driver.execute_script(\"window.scrollTo(window.scrollY, window.scrollY + 500)\")\n",
    "    time.sleep(0.2)"
   ]
  },
  {
   "cell_type": "markdown",
   "metadata": {},
   "source": [
    "## Extract Data"
   ]
  },
  {
   "cell_type": "markdown",
   "metadata": {},
   "source": [
    "### Rank"
   ]
  },
  {
   "cell_type": "code",
   "execution_count": 5,
   "metadata": {},
   "outputs": [],
   "source": [
    "# Extract Rank and remove first element which is just RANK:\n",
    "rank = [x.text for x in driver.find_elements_by_class_name('rank')][1:]"
   ]
  },
  {
   "cell_type": "markdown",
   "metadata": {},
   "source": [
    "### Name"
   ]
  },
  {
   "cell_type": "code",
   "execution_count": 6,
   "metadata": {},
   "outputs": [],
   "source": [
    "# Extract name and remove first element which is just NAME:\n",
    "name = [x.text for x in driver.find_elements_by_class_name('personName')][1:]"
   ]
  },
  {
   "cell_type": "markdown",
   "metadata": {},
   "source": [
    "### Total Net Worth"
   ]
  },
  {
   "cell_type": "code",
   "execution_count": 7,
   "metadata": {},
   "outputs": [],
   "source": [
    "# Extract total net worth and remove first element that says NET Worth:\n",
    "total_net_worth = [x.text for x in driver.find_elements_by_class_name('netWorth')][1:]"
   ]
  },
  {
   "cell_type": "markdown",
   "metadata": {},
   "source": [
    "### Age"
   ]
  },
  {
   "cell_type": "code",
   "execution_count": 8,
   "metadata": {},
   "outputs": [],
   "source": [
    "# Extract age and remove first element that says AGE\n",
    "age = [x.text for x in driver.find_elements_by_class_name('age')][1:]"
   ]
  },
  {
   "cell_type": "markdown",
   "metadata": {},
   "source": [
    "### Country"
   ]
  },
  {
   "cell_type": "code",
   "execution_count": 9,
   "metadata": {},
   "outputs": [],
   "source": [
    "# Extract country and remove first element that says COUNTRY / TERRITORY:\n",
    "country = [x.text for x in driver.find_elements_by_class_name('countryOfCitizenship')][1:]"
   ]
  },
  {
   "cell_type": "markdown",
   "metadata": {},
   "source": [
    "### Source / Company"
   ]
  },
  {
   "cell_type": "code",
   "execution_count": 10,
   "metadata": {},
   "outputs": [],
   "source": [
    "# Extract company/source and remove first element that says Source\n",
    "source = [x.text for x in driver.find_elements_by_class_name('source')][1:]"
   ]
  },
  {
   "cell_type": "markdown",
   "metadata": {},
   "source": [
    "### Industry"
   ]
  },
  {
   "cell_type": "code",
   "execution_count": 11,
   "metadata": {},
   "outputs": [],
   "source": [
    "# Extract Industry and remove first element that says Industry\n",
    "industry = [x.text for x in driver.find_elements_by_class_name('category')][1:]"
   ]
  },
  {
   "cell_type": "markdown",
   "metadata": {},
   "source": [
    "## Create Dataframe"
   ]
  },
  {
   "cell_type": "code",
   "execution_count": 12,
   "metadata": {},
   "outputs": [],
   "source": [
    "## Create Dataframe\n",
    "\n",
    "forbes_billionaires_df = pd.DataFrame({\n",
    "                                'Rank': rank, \n",
    "                                'Name': name, \n",
    "                                'Net Worth': total_net_worth,\n",
    "                                'Age': age,\n",
    "                                'Country': country,\n",
    "                                'Source': source,\n",
    "                                'Industry': industry,\n",
    "})"
   ]
  },
  {
   "cell_type": "code",
   "execution_count": 13,
   "metadata": {},
   "outputs": [
    {
     "data": {
      "text/html": [
       "<div>\n",
       "<style scoped>\n",
       "    .dataframe tbody tr th:only-of-type {\n",
       "        vertical-align: middle;\n",
       "    }\n",
       "\n",
       "    .dataframe tbody tr th {\n",
       "        vertical-align: top;\n",
       "    }\n",
       "\n",
       "    .dataframe thead th {\n",
       "        text-align: right;\n",
       "    }\n",
       "</style>\n",
       "<table border=\"1\" class=\"dataframe\">\n",
       "  <thead>\n",
       "    <tr style=\"text-align: right;\">\n",
       "      <th></th>\n",
       "      <th>Rank</th>\n",
       "      <th>Name</th>\n",
       "      <th>Net Worth</th>\n",
       "      <th>Age</th>\n",
       "      <th>Country</th>\n",
       "      <th>Source</th>\n",
       "      <th>Industry</th>\n",
       "    </tr>\n",
       "  </thead>\n",
       "  <tbody>\n",
       "    <tr>\n",
       "      <th>0</th>\n",
       "      <td>1.</td>\n",
       "      <td>Jeff Bezos</td>\n",
       "      <td>$177 B</td>\n",
       "      <td>57</td>\n",
       "      <td>United States</td>\n",
       "      <td>Amazon</td>\n",
       "      <td>Technology</td>\n",
       "    </tr>\n",
       "    <tr>\n",
       "      <th>1</th>\n",
       "      <td>2.</td>\n",
       "      <td>Elon Musk</td>\n",
       "      <td>$151 B</td>\n",
       "      <td>49</td>\n",
       "      <td>United States</td>\n",
       "      <td>Tesla, SpaceX</td>\n",
       "      <td>Automotive</td>\n",
       "    </tr>\n",
       "    <tr>\n",
       "      <th>2</th>\n",
       "      <td>3.</td>\n",
       "      <td>Bernard Arnault &amp; family</td>\n",
       "      <td>$150 B</td>\n",
       "      <td>72</td>\n",
       "      <td>France</td>\n",
       "      <td>LVMH</td>\n",
       "      <td>Fashion &amp; Retail</td>\n",
       "    </tr>\n",
       "    <tr>\n",
       "      <th>3</th>\n",
       "      <td>4.</td>\n",
       "      <td>Bill Gates</td>\n",
       "      <td>$124 B</td>\n",
       "      <td>65</td>\n",
       "      <td>United States</td>\n",
       "      <td>Microsoft</td>\n",
       "      <td>Technology</td>\n",
       "    </tr>\n",
       "    <tr>\n",
       "      <th>4</th>\n",
       "      <td>5.</td>\n",
       "      <td>Mark Zuckerberg</td>\n",
       "      <td>$97 B</td>\n",
       "      <td>36</td>\n",
       "      <td>United States</td>\n",
       "      <td>Facebook</td>\n",
       "      <td>Technology</td>\n",
       "    </tr>\n",
       "    <tr>\n",
       "      <th>5</th>\n",
       "      <td>6.</td>\n",
       "      <td>Warren Buffett</td>\n",
       "      <td>$96 B</td>\n",
       "      <td>90</td>\n",
       "      <td>United States</td>\n",
       "      <td>Berkshire Hathaway</td>\n",
       "      <td>Finance &amp; Investments</td>\n",
       "    </tr>\n",
       "    <tr>\n",
       "      <th>6</th>\n",
       "      <td>7.</td>\n",
       "      <td>Larry Ellison</td>\n",
       "      <td>$93 B</td>\n",
       "      <td>76</td>\n",
       "      <td>United States</td>\n",
       "      <td>software</td>\n",
       "      <td>Technology</td>\n",
       "    </tr>\n",
       "    <tr>\n",
       "      <th>7</th>\n",
       "      <td>8.</td>\n",
       "      <td>Larry Page</td>\n",
       "      <td>$91.5 B</td>\n",
       "      <td>48</td>\n",
       "      <td>United States</td>\n",
       "      <td>Google</td>\n",
       "      <td>Technology</td>\n",
       "    </tr>\n",
       "    <tr>\n",
       "      <th>8</th>\n",
       "      <td>9.</td>\n",
       "      <td>Sergey Brin</td>\n",
       "      <td>$89 B</td>\n",
       "      <td>47</td>\n",
       "      <td>United States</td>\n",
       "      <td>Google</td>\n",
       "      <td>Technology</td>\n",
       "    </tr>\n",
       "    <tr>\n",
       "      <th>9</th>\n",
       "      <td>10.</td>\n",
       "      <td>Mukesh Ambani</td>\n",
       "      <td>$84.5 B</td>\n",
       "      <td>63</td>\n",
       "      <td>India</td>\n",
       "      <td>diversified</td>\n",
       "      <td>Diversified</td>\n",
       "    </tr>\n",
       "  </tbody>\n",
       "</table>\n",
       "</div>"
      ],
      "text/plain": [
       "  Rank                      Name Net Worth Age        Country  \\\n",
       "0   1.                Jeff Bezos    $177 B  57  United States   \n",
       "1   2.                 Elon Musk    $151 B  49  United States   \n",
       "2   3.  Bernard Arnault & family    $150 B  72         France   \n",
       "3   4.                Bill Gates    $124 B  65  United States   \n",
       "4   5.           Mark Zuckerberg     $97 B  36  United States   \n",
       "5   6.            Warren Buffett     $96 B  90  United States   \n",
       "6   7.             Larry Ellison     $93 B  76  United States   \n",
       "7   8.                Larry Page   $91.5 B  48  United States   \n",
       "8   9.               Sergey Brin     $89 B  47  United States   \n",
       "9  10.             Mukesh Ambani   $84.5 B  63          India   \n",
       "\n",
       "               Source               Industry  \n",
       "0              Amazon             Technology  \n",
       "1       Tesla, SpaceX             Automotive  \n",
       "2                LVMH       Fashion & Retail  \n",
       "3           Microsoft             Technology  \n",
       "4            Facebook             Technology  \n",
       "5  Berkshire Hathaway  Finance & Investments  \n",
       "6            software             Technology  \n",
       "7              Google             Technology  \n",
       "8              Google             Technology  \n",
       "9         diversified            Diversified  "
      ]
     },
     "execution_count": 13,
     "metadata": {},
     "output_type": "execute_result"
    }
   ],
   "source": [
    "# Preview top 10 billionaires\n",
    "forbes_billionaires_df.head(10)"
   ]
  },
  {
   "cell_type": "code",
   "execution_count": 14,
   "metadata": {},
   "outputs": [
    {
     "data": {
      "text/html": [
       "<div>\n",
       "<style scoped>\n",
       "    .dataframe tbody tr th:only-of-type {\n",
       "        vertical-align: middle;\n",
       "    }\n",
       "\n",
       "    .dataframe tbody tr th {\n",
       "        vertical-align: top;\n",
       "    }\n",
       "\n",
       "    .dataframe thead th {\n",
       "        text-align: right;\n",
       "    }\n",
       "</style>\n",
       "<table border=\"1\" class=\"dataframe\">\n",
       "  <thead>\n",
       "    <tr style=\"text-align: right;\">\n",
       "      <th></th>\n",
       "      <th>Rank</th>\n",
       "      <th>Name</th>\n",
       "      <th>Net Worth</th>\n",
       "      <th>Age</th>\n",
       "      <th>Country</th>\n",
       "      <th>Source</th>\n",
       "      <th>Industry</th>\n",
       "    </tr>\n",
       "  </thead>\n",
       "  <tbody>\n",
       "    <tr>\n",
       "      <th>190</th>\n",
       "      <td>191.</td>\n",
       "      <td>Aliko Dangote</td>\n",
       "      <td>$11.5 B</td>\n",
       "      <td>63</td>\n",
       "      <td>Nigeria</td>\n",
       "      <td>cement, sugar</td>\n",
       "      <td>Manufacturing</td>\n",
       "    </tr>\n",
       "    <tr>\n",
       "      <th>191</th>\n",
       "      <td>191.</td>\n",
       "      <td>Marcel Herrmann Telles</td>\n",
       "      <td>$11.5 B</td>\n",
       "      <td>71</td>\n",
       "      <td>Brazil</td>\n",
       "      <td>beer</td>\n",
       "      <td>Food &amp; Beverage</td>\n",
       "    </tr>\n",
       "    <tr>\n",
       "      <th>192</th>\n",
       "      <td>193.</td>\n",
       "      <td>Mikhail Prokhorov</td>\n",
       "      <td>$11.4 B</td>\n",
       "      <td>55</td>\n",
       "      <td>Russia</td>\n",
       "      <td>investments</td>\n",
       "      <td>Finance &amp; Investments</td>\n",
       "    </tr>\n",
       "    <tr>\n",
       "      <th>193</th>\n",
       "      <td>194.</td>\n",
       "      <td>Jorge Moll Filho &amp; family</td>\n",
       "      <td>$11.3 B</td>\n",
       "      <td>76</td>\n",
       "      <td>Brazil</td>\n",
       "      <td>hospitals</td>\n",
       "      <td>Healthcare</td>\n",
       "    </tr>\n",
       "    <tr>\n",
       "      <th>194</th>\n",
       "      <td>195.</td>\n",
       "      <td>Viktor Rashnikov</td>\n",
       "      <td>$11.2 B</td>\n",
       "      <td>72</td>\n",
       "      <td>Russia</td>\n",
       "      <td>steel</td>\n",
       "      <td>Manufacturing</td>\n",
       "    </tr>\n",
       "    <tr>\n",
       "      <th>195</th>\n",
       "      <td>195.</td>\n",
       "      <td>Harry Triguboff</td>\n",
       "      <td>$11.2 B</td>\n",
       "      <td>88</td>\n",
       "      <td>Australia</td>\n",
       "      <td>real estate</td>\n",
       "      <td>Real Estate</td>\n",
       "    </tr>\n",
       "    <tr>\n",
       "      <th>196</th>\n",
       "      <td>197.</td>\n",
       "      <td>Leonid Fedun &amp; family</td>\n",
       "      <td>$11.1 B</td>\n",
       "      <td>65</td>\n",
       "      <td>Russia</td>\n",
       "      <td>oil</td>\n",
       "      <td>Energy</td>\n",
       "    </tr>\n",
       "    <tr>\n",
       "      <th>197</th>\n",
       "      <td>197.</td>\n",
       "      <td>Eyal Ofer</td>\n",
       "      <td>$11.1 B</td>\n",
       "      <td>70</td>\n",
       "      <td>Israel</td>\n",
       "      <td>real estate, shipping</td>\n",
       "      <td>Diversified</td>\n",
       "    </tr>\n",
       "    <tr>\n",
       "      <th>198</th>\n",
       "      <td>197.</td>\n",
       "      <td>Evan Spiegel</td>\n",
       "      <td>$11.1 B</td>\n",
       "      <td>30</td>\n",
       "      <td>United States</td>\n",
       "      <td>Snapchat</td>\n",
       "      <td>Technology</td>\n",
       "    </tr>\n",
       "    <tr>\n",
       "      <th>199</th>\n",
       "      <td>200.</td>\n",
       "      <td>Luis Carlos Sarmiento</td>\n",
       "      <td>$11 B</td>\n",
       "      <td>88</td>\n",
       "      <td>Colombia</td>\n",
       "      <td>banking</td>\n",
       "      <td>Finance &amp; Investments</td>\n",
       "    </tr>\n",
       "  </tbody>\n",
       "</table>\n",
       "</div>"
      ],
      "text/plain": [
       "     Rank                       Name Net Worth Age        Country  \\\n",
       "190  191.              Aliko Dangote   $11.5 B  63        Nigeria   \n",
       "191  191.     Marcel Herrmann Telles   $11.5 B  71         Brazil   \n",
       "192  193.          Mikhail Prokhorov   $11.4 B  55         Russia   \n",
       "193  194.  Jorge Moll Filho & family   $11.3 B  76         Brazil   \n",
       "194  195.           Viktor Rashnikov   $11.2 B  72         Russia   \n",
       "195  195.            Harry Triguboff   $11.2 B  88      Australia   \n",
       "196  197.      Leonid Fedun & family   $11.1 B  65         Russia   \n",
       "197  197.                  Eyal Ofer   $11.1 B  70         Israel   \n",
       "198  197.               Evan Spiegel   $11.1 B  30  United States   \n",
       "199  200.      Luis Carlos Sarmiento     $11 B  88       Colombia   \n",
       "\n",
       "                    Source               Industry  \n",
       "190          cement, sugar          Manufacturing  \n",
       "191                   beer        Food & Beverage  \n",
       "192            investments  Finance & Investments  \n",
       "193              hospitals             Healthcare  \n",
       "194                  steel          Manufacturing  \n",
       "195            real estate            Real Estate  \n",
       "196                    oil                 Energy  \n",
       "197  real estate, shipping            Diversified  \n",
       "198               Snapchat             Technology  \n",
       "199                banking  Finance & Investments  "
      ]
     },
     "execution_count": 14,
     "metadata": {},
     "output_type": "execute_result"
    }
   ],
   "source": [
    "# Preview ranked 191-200 billionaires\n",
    "forbes_billionaires_df.tail(10)"
   ]
  },
  {
   "cell_type": "code",
   "execution_count": 15,
   "metadata": {},
   "outputs": [],
   "source": [
    "# Close driver\n",
    "\n",
    "driver.close()"
   ]
  },
  {
   "cell_type": "code",
   "execution_count": null,
   "metadata": {},
   "outputs": [],
   "source": [
    "# Save dataframe of top 200 Billionaires by Forbes.\n",
    "\n",
    "forbes_billionaires_df.to_csv(\"Forbes_Top200Billionaires_2021.csv\")"
   ]
  }
 ],
 "metadata": {
  "kernelspec": {
   "display_name": "Python 3",
   "language": "python",
   "name": "python3"
  },
  "language_info": {
   "codemirror_mode": {
    "name": "ipython",
    "version": 3
   },
   "file_extension": ".py",
   "mimetype": "text/x-python",
   "name": "python",
   "nbconvert_exporter": "python",
   "pygments_lexer": "ipython3",
   "version": "3.8.3"
  }
 },
 "nbformat": 4,
 "nbformat_minor": 4
}
